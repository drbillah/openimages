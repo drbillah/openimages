{
 "cells": [
  {
   "cell_type": "markdown",
   "id": "8e3a9433",
   "metadata": {},
   "source": [
    "# $ \\text{To retrieve a subset of image from Open Images V7:} $\n",
    "1. $ \\text{Locate the label name in the \"oidv7-class-descriptions.csv\" file.} $\n",
    "2. $ \\text{Execute the provided script with the label name to obtain the image ID.} $\n",
    "3. $ \\text{Use the \"downloader.py\" script to download the image associated with the obtained ID.} $\n",
    "\n",
    "For more information, visit [Open Images V7 Download Page](https://storage.googleapis.com/openimages/web/download_v7.html).\n"
   ]
  },
  {
   "cell_type": "markdown",
   "id": "05687a37",
   "metadata": {},
   "source": [
    "### 01. get the class name"
   ]
  },
  {
   "cell_type": "code",
   "execution_count": null,
   "id": "3b2c117f",
   "metadata": {},
   "outputs": [],
   "source": [
    "$ wget https://storage.googleapis.com/openimages/v7/oidv7-class-descriptions.csv"
   ]
  },
  {
   "cell_type": "markdown",
   "id": "be3d7cec",
   "metadata": {},
   "source": [
    "### 2. extract the image id"
   ]
  },
  {
   "cell_type": "code",
   "execution_count": 6,
   "id": "25c053aa",
   "metadata": {},
   "outputs": [],
   "source": [
    "import os\n",
    "\n",
    "def getImgID(file, filetype):\n",
    "    if os.path.exists(\"IMAGE_LIST_FILE.txt\"):\n",
    "        f = open('IMAGE_LIST_FILE.txt', \"a\")\n",
    "    else:\n",
    "        f = open('IMAGE_LIST_FILE.txt', \"w\")\n",
    "        \n",
    "    with open(file) as lines:\n",
    "        for line in lines:\n",
    "            line = line.split(',')\n",
    "            # /m/078qb0 is the LabelName for Pig\n",
    "            if line[2] == \"/m/078qb0\" or line[2] == \"/m/068zj\":\n",
    "                if float(line[3]) == 1.0:\n",
    "                    f.write(\"{}/{}\\n\".format(filetype,line[0]))\n",
    "        f.close()\n",
    "        \n",
    "train = \"oidv7-train-annotations-human-imagelabels.csv\"\n",
    "test = \"oidv7-test-annotations-human-imagelabels.csv\"\n",
    "validation = \"oidv7-val-annotations-human-imagelabels.csv\"\n",
    "\n",
    "getImgID(train, \"train\")\n",
    "getImgID(test, \"test\")\n",
    "getImgID(validation, \"validation\")"
   ]
  },
  {
   "cell_type": "markdown",
   "id": "7c93ca83",
   "metadata": {},
   "source": [
    "### 3. download the images"
   ]
  },
  {
   "cell_type": "code",
   "execution_count": null,
   "id": "4981c450",
   "metadata": {},
   "outputs": [],
   "source": [
    "$ wget https://raw.githubusercontent.com/openimages/dataset/master/downloader.py\n",
    "    \n",
    "$ python downloader.py <IMAGE_LIST_FILE> --download_folder <DOWNLOAD_FOLDER> --num_processes <number>\n",
    "\n",
    "optional arguments:\n",
    "  -h, --help           show this help message and exit\n",
    "  --num_processes      Number of parallel processes to use (default is 5).\n",
    "  --download_folder    Folder where to download the images.\n",
    "  \n",
    "  Example:\n",
    "  python downloader.py IMAGE_LIST_FILE.txt --download_folder /home/lab/myfolder/ --num_processes 5"
   ]
  }
 ],
 "metadata": {
  "@webio": {
   "lastCommId": null,
   "lastKernelId": null
  },
  "kernelspec": {
   "display_name": "Python [conda env:imgproc]",
   "language": "python",
   "name": "conda-env-imgproc-py"
  },
  "language_info": {
   "codemirror_mode": {
    "name": "ipython",
    "version": 3
   },
   "file_extension": ".py",
   "mimetype": "text/x-python",
   "name": "python",
   "nbconvert_exporter": "python",
   "pygments_lexer": "ipython3",
   "version": "3.11.5"
  }
 },
 "nbformat": 4,
 "nbformat_minor": 5
}
